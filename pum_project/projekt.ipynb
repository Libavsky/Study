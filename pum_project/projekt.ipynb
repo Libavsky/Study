{
 "cells": [
  {
   "cell_type": "code",
   "execution_count": 33,
   "metadata": {
    "collapsed": true
   },
   "outputs": [
    {
     "name": "stderr",
     "output_type": "stream",
     "text": [
      "[nltk_data] Downloading package punkt to\n",
      "[nltk_data]     C:\\Users\\pioro\\AppData\\Roaming\\nltk_data...\n",
      "[nltk_data]   Package punkt is already up-to-date!\n",
      "[nltk_data] Downloading package wordnet to\n",
      "[nltk_data]     C:\\Users\\pioro\\AppData\\Roaming\\nltk_data...\n",
      "[nltk_data]   Package wordnet is already up-to-date!\n",
      "[nltk_data] Downloading package averaged_perceptron_tagger to\n",
      "[nltk_data]     C:\\Users\\pioro\\AppData\\Roaming\\nltk_data...\n",
      "[nltk_data]   Package averaged_perceptron_tagger is already up-to-\n",
      "[nltk_data]       date!\n"
     ]
    },
    {
     "name": "stdout",
     "output_type": "stream",
     "text": [
      "<class 'pandas.core.series.Series'>\n",
      "(24094,)\n"
     ]
    }
   ],
   "source": [
    "import numpy as np\n",
    "import pandas as pd\n",
    "import matplotlib.pyplot as plt\n",
    "from nltk import word_tokenize\n",
    "from nltk import WordNetLemmatizer\n",
    "import nltk\n",
    "nltk.download('punkt')\n",
    "nltk.download('wordnet')\n",
    "nltk.download('averaged_perceptron_tagger')\n",
    "nltk.download('stopwords')\n",
    "from nltk.corpus import wordnet\n",
    "import string\n",
    "\n",
    "\n",
    "columns=[\"txt\", \"l1-class\", \"l2-class\", \"l3-class\"]\n",
    "train_set = pd.read_csv(\"DBPEDIA_train.csv\", header=None, names=columns)\n",
    "test_set = pd.read_csv(\"DBPEDIA_test.csv\", header=None, names=columns)\n",
    "#Ograniczamy sie do klas l2\n",
    "del train_set[\"l1-class\"]\n",
    "del train_set[\"l3-class\"]\n",
    "del test_set[\"l1-class\"]\n",
    "del test_set[\"l3-class\"]\n",
    "del columns[3]\n",
    "del columns[1]\n",
    "\n",
    "train_set = train_set.sample(frac=0.1)\n",
    "test_set = test_set.sample(frac=0.1)\n",
    "\n",
    "train_set_X = train_set[\"txt\"]\n",
    "train_set_Y = train_set[\"l2-class\"]\n",
    "test_set_X = test_set[\"txt\"]\n",
    "test_set_Y = test_set[\"l2-class\"]\n",
    "\n",
    "print(type(train_set_X))\n",
    "print(train_set_X.shape)"
   ]
  },
  {
   "cell_type": "code",
   "execution_count": 37,
   "outputs": [
    {
     "name": "stdout",
     "output_type": "stream",
     "text": [
      "the darmstadt–worms railway is a standardgauge railway that is now partially closed it runs through southern hesse through the hessian ried hessische ried and so it is also called the riedbahn ried railway the section between darmstadt and riedstadtgoddelau is now largely closed the section between riedstadtgoddelau and biblis which is now considered part of the mannheim–frankfurt railway is of great importance for longdistance passenger services and rail freight traffic the last section from biblis to worms is used by regional passenger services and rail freight traffic\n"
     ]
    }
   ],
   "source": [
    "train_set_X = train_set_X.apply(lambda text: text.translate(str.maketrans('', '', string.punctuation)))\n",
    "test_set_X = test_set_X.apply(lambda text: text.translate(str.maketrans('', '', string.punctuation)))\n",
    "\n",
    "train_set_X = train_set_X.apply(lambda text: text.lower())\n",
    "test_set_X = test_set_X.apply(lambda text: text.lower())\n",
    "\n",
    "print(train_set_X.iloc[4])"
   ],
   "metadata": {
    "collapsed": false,
    "pycharm": {
     "name": "#%%\n"
    }
   }
  },
  {
   "cell_type": "code",
   "execution_count": 38,
   "outputs": [
    {
     "name": "stdout",
     "output_type": "stream",
     "text": [
      "['the', 'darmstadt–worms', 'railway', 'is', 'a', 'standardgauge', 'railway', 'that', 'is', 'now', 'partially', 'closed', 'it', 'runs', 'through', 'southern', 'hesse', 'through', 'the', 'hessian', 'ried', 'hessische', 'ried', 'and', 'so', 'it', 'is', 'also', 'called', 'the', 'riedbahn', 'ried', 'railway', 'the', 'section', 'between', 'darmstadt', 'and', 'riedstadtgoddelau', 'is', 'now', 'largely', 'closed', 'the', 'section', 'between', 'riedstadtgoddelau', 'and', 'biblis', 'which', 'is', 'now', 'considered', 'part', 'of', 'the', 'mannheim–frankfurt', 'railway', 'is', 'of', 'great', 'importance', 'for', 'longdistance', 'passenger', 'services', 'and', 'rail', 'freight', 'traffic', 'the', 'last', 'section', 'from', 'biblis', 'to', 'worms', 'is', 'used', 'by', 'regional', 'passenger', 'services', 'and', 'rail', 'freight', 'traffic']\n"
     ]
    }
   ],
   "source": [
    "train_set_X = train_set_X.apply(lambda text: word_tokenize(text))\n",
    "test_set_X = test_set_X.apply(lambda text: word_tokenize(text))\n",
    "\n",
    "print(train_set_X.iloc[4])"
   ],
   "metadata": {
    "collapsed": false,
    "pycharm": {
     "name": "#%%\n"
    }
   }
  },
  {
   "cell_type": "code",
   "execution_count": 39,
   "outputs": [
    {
     "name": "stdout",
     "output_type": "stream",
     "text": [
      "10000\n",
      "20000\n",
      "30000\n",
      "['the', 'darmstadt–worms', 'railway', 'be', 'a', 'standardgauge', 'railway', 'that', 'be', 'now', 'partially', 'close', 'it', 'run', 'through', 'southern', 'hesse', 'through', 'the', 'hessian', 'ried', 'hessische', 'ried', 'and', 'so', 'it', 'be', 'also', 'call', 'the', 'riedbahn', 'ried', 'railway', 'the', 'section', 'between', 'darmstadt', 'and', 'riedstadtgoddelau', 'be', 'now', 'largely', 'close', 'the', 'section', 'between', 'riedstadtgoddelau', 'and', 'biblis', 'which', 'be', 'now', 'consider', 'part', 'of', 'the', 'mannheim–frankfurt', 'railway', 'be', 'of', 'great', 'importance', 'for', 'longdistance', 'passenger', 'service', 'and', 'rail', 'freight', 'traffic', 'the', 'last', 'section', 'from', 'biblis', 'to', 'worm', 'be', 'use', 'by', 'regional', 'passenger', 'service', 'and', 'rail', 'freight', 'traffic']\n"
     ]
    }
   ],
   "source": [
    "from nltk.corpus import wordnet\n",
    "\n",
    "lemmatizer = WordNetLemmatizer()\n",
    "iterator = 0\n",
    "def get_wordnet_pos(word):\n",
    "    tag = nltk.pos_tag([word])[0][1][0].upper()\n",
    "    tag_dict = {\"J\": wordnet.ADJ,\n",
    "                \"N\": wordnet.NOUN,\n",
    "                \"V\": wordnet.VERB,\n",
    "                \"R\": wordnet.ADV}\n",
    "\n",
    "    return tag_dict.get(tag, wordnet.NOUN)\n",
    "\n",
    "def list_lemmatize(list_of_words):\n",
    "    new_list_of_words = []\n",
    "    global iterator\n",
    "    iterator += 1\n",
    "    if iterator%10000 == 0:\n",
    "        print(iterator)\n",
    "    for word in list_of_words:\n",
    "        new_list_of_words.append(lemmatizer.lemmatize(word, get_wordnet_pos(word)))\n",
    "    return new_list_of_words\n",
    "\n",
    "train_set_X = train_set_X.apply(list_lemmatize)\n",
    "test_set_X = test_set_X.apply(list_lemmatize)\n",
    "\n",
    "print(train_set_X.iloc[4])\n",
    "\n"
   ],
   "metadata": {
    "collapsed": false,
    "pycharm": {
     "name": "#%%\n"
    }
   }
  },
  {
   "cell_type": "code",
   "execution_count": 41,
   "outputs": [
    {
     "name": "stderr",
     "output_type": "stream",
     "text": [
      "[nltk_data] Downloading package stopwords to\n",
      "[nltk_data]     C:\\Users\\pioro\\AppData\\Roaming\\nltk_data...\n",
      "[nltk_data]   Unzipping corpora\\stopwords.zip.\n"
     ]
    },
    {
     "name": "stdout",
     "output_type": "stream",
     "text": [
      "['darmstadt–worms', 'railway', 'standardgauge', 'railway', 'partially', 'close', 'run', 'southern', 'hesse', 'hessian', 'ried', 'hessische', 'ried', 'also', 'call', 'riedbahn', 'ried', 'railway', 'section', 'darmstadt', 'riedstadtgoddelau', 'largely', 'close', 'section', 'riedstadtgoddelau', 'biblis', 'consider', 'part', 'mannheim–frankfurt', 'railway', 'great', 'importance', 'longdistance', 'passenger', 'service', 'rail', 'freight', 'traffic', 'last', 'section', 'biblis', 'worm', 'use', 'regional', 'passenger', 'service', 'rail', 'freight', 'traffic']\n"
     ]
    }
   ],
   "source": [
    "from nltk.corpus import stopwords\n",
    "stopWords = set(stopwords.words('english'))\n",
    "\n",
    "def filter_stop_words(list_of_words):\n",
    "    words_filtered = []\n",
    "    for w in list_of_words:\n",
    "        if w not in stopWords:\n",
    "            words_filtered.append(w)\n",
    "    return words_filtered\n",
    "\n",
    "train_set_X = train_set_X.apply(filter_stop_words)\n",
    "test_set_X = test_set_X.apply(filter_stop_words)\n",
    "\n",
    "print(train_set_X.iloc[4])\n"
   ],
   "metadata": {
    "collapsed": false,
    "pycharm": {
     "name": "#%%\n"
    }
   }
  },
  {
   "cell_type": "code",
   "execution_count": 43,
   "outputs": [
    {
     "name": "stdout",
     "output_type": "stream",
     "text": [
      "darmstadt–worms railway standardgauge railway partially close run southern hesse hessian ried hessische ried also call riedbahn ried railway section darmstadt riedstadtgoddelau largely close section riedstadtgoddelau biblis consider part mannheim–frankfurt railway great importance longdistance passenger service rail freight traffic last section biblis worm use regional passenger service rail freight traffic\n"
     ]
    }
   ],
   "source": [
    "train_set_X = train_set_X.apply(lambda text: ' '.join(text))\n",
    "test_set_X = test_set_X.apply(lambda text: ' '.join(text))\n",
    "\n",
    "print(train_set_X.iloc[4])"
   ],
   "metadata": {
    "collapsed": false,
    "pycharm": {
     "name": "#%%\n"
    }
   }
  },
  {
   "cell_type": "code",
   "execution_count": 44,
   "outputs": [
    {
     "name": "stdout",
     "output_type": "stream",
     "text": [
      "(24094, 17250)\n"
     ]
    }
   ],
   "source": [
    "from sklearn.feature_extraction.text import CountVectorizer\n",
    "vectorizer = CountVectorizer(min_df=5, max_df=0.5)\n",
    "train_features_set_X = vectorizer.fit_transform(train_set_X)\n",
    "test_features_set_X = vectorizer.transform(test_set_X)\n",
    "print(train_features_set_X.shape)\n"
   ],
   "metadata": {
    "collapsed": false,
    "pycharm": {
     "name": "#%%\n"
    }
   }
  },
  {
   "cell_type": "code",
   "execution_count": 50,
   "outputs": [
    {
     "name": "stdout",
     "output_type": "stream",
     "text": [
      "0.9336764339669628\n",
      "0.8657894736842106\n",
      "70\n"
     ]
    }
   ],
   "source": [
    "from sklearn.naive_bayes import MultinomialNB\n",
    "bayes = MultinomialNB()\n",
    "bayes.fit(train_features_set_X, train_set_Y)\n",
    "print(bayes.score(train_features_set_X, train_set_Y))\n",
    "print(bayes.score(test_features_set_X, test_set_Y))\n",
    "print(len(set(test_set_Y)))"
   ],
   "metadata": {
    "collapsed": false,
    "pycharm": {
     "name": "#%%\n"
    }
   }
  },
  {
   "cell_type": "code",
   "execution_count": 59,
   "outputs": [
    {
     "name": "stdout",
     "output_type": "stream",
     "text": [
      "Tournament[ True]\n",
      "fa cup 1973–74 93rd season world old football knockout competition football association challenge cup fa cup short large number club enter tournament low english football league system meant competition start number preliminary qualify round 30 victorious team fourth round qualify progress first round proper\n"
     ]
    }
   ],
   "source": [
    "index = 88\n",
    "prediction = bayes.predict(test_features_set_X[index])\n",
    "print(prediction[0] + str(test_set_Y.iloc[index] == prediction))\n",
    "print(test_set_X.iloc[index])"
   ],
   "metadata": {
    "collapsed": false,
    "pycharm": {
     "name": "#%%\n"
    }
   }
  },
  {
   "cell_type": "code",
   "execution_count": 61,
   "outputs": [
    {
     "name": "stdout",
     "output_type": "stream",
     "text": [
      "[[ 14   0   0 ...   0   0   0]\n",
      " [  0  14   0 ...   0   0   0]\n",
      " [  0   0 368 ...   0   0   0]\n",
      " ...\n",
      " [  0   0   0 ...   3   0   0]\n",
      " [  0   0   0 ...   0   0   0]\n",
      " [  0   0   0 ...   0   0  20]]\n",
      "                              precision    recall  f1-score   support\n",
      "\n",
      "                       Actor       1.00      0.50      0.67        28\n",
      "     AmusementParkAttraction       1.00      0.93      0.97        15\n",
      "                      Animal       0.90      0.99      0.94       372\n",
      "                      Artist       0.77      0.84      0.80       134\n",
      "                     Athlete       0.86      0.96      0.91       800\n",
      "                 BodyOfWater       0.93      0.91      0.92        43\n",
      "                       Boxer       0.00      0.00      0.00         6\n",
      "              BritishRoyalty       1.00      0.53      0.70        15\n",
      "                 Broadcaster       0.94      0.97      0.95        93\n",
      "                    Building       0.89      0.95      0.92       277\n",
      "                     Cartoon       0.97      0.69      0.81        52\n",
      "               CelestialBody       1.00      1.00      1.00        68\n",
      "                      Cleric       0.79      0.98      0.87       124\n",
      "ClericalAdministrativeRegion       0.96      0.83      0.89        64\n",
      "                       Coach       0.87      0.88      0.88        52\n",
      "                       Comic       0.68      0.89      0.77        62\n",
      "             ComicsCharacter       0.00      0.00      0.00         5\n",
      "                     Company       0.95      0.80      0.87       202\n",
      "                    Database       1.00      0.33      0.50         3\n",
      "      EducationalInstitution       0.90      0.95      0.92       116\n",
      "                      Engine       1.00      0.80      0.89         5\n",
      "                   Eukaryote       0.97      0.78      0.87        46\n",
      "          FictionalCharacter       0.92      0.92      0.92        52\n",
      "              FloweringPlant       1.00      0.83      0.91         6\n",
      "        FootballLeagueSeason       1.00      0.82      0.90        49\n",
      "                       Genre       1.00      0.47      0.64        19\n",
      "      GridironFootballPlayer       0.95      0.89      0.92        46\n",
      "                       Group       0.68      0.50      0.58        38\n",
      "                       Horse       0.83      0.96      0.89        45\n",
      "              Infrastructure       0.93      0.97      0.95        97\n",
      "                   LegalCase       1.00      1.00      1.00        42\n",
      "             MotorcycleRider       1.00      0.18      0.31        11\n",
      "               MusicalArtist       0.00      0.00      0.00         3\n",
      "                 MusicalWork       0.79      0.98      0.88       178\n",
      "                NaturalEvent       1.00      0.94      0.97        17\n",
      "                NaturalPlace       0.91      0.99      0.95       143\n",
      "                    Olympics       1.00      0.87      0.93        55\n",
      "                Organisation       0.85      0.78      0.81       171\n",
      "          OrganisationMember       1.00      0.12      0.22         8\n",
      "        PeriodicalLiterature       0.78      0.96      0.86       129\n",
      "                      Person       0.81      0.77      0.79       490\n",
      "                       Plant       0.97      0.55      0.70        64\n",
      "                  Politician       0.69      0.88      0.77       197\n",
      "                   Presenter       0.00      0.00      0.00         1\n",
      "                        Race       0.95      0.91      0.93        67\n",
      "                   RaceTrack       0.00      0.00      0.00         2\n",
      "                RacingDriver       0.96      0.96      0.96        24\n",
      "       RouteOfTransportation       0.79      0.99      0.88       160\n",
      "                   Satellite       0.91      1.00      0.95        40\n",
      "                   Scientist       1.00      0.05      0.10        20\n",
      "                  Settlement       0.94      0.83      0.88        95\n",
      "               SocietalEvent       0.91      0.76      0.83       181\n",
      "                    Software       0.92      0.96      0.94        50\n",
      "                        Song       1.00      0.95      0.98        21\n",
      "               SportFacility       0.92      0.89      0.90        53\n",
      "                 SportsEvent       0.95      0.88      0.92        93\n",
      "                SportsLeague       0.90      0.59      0.72        64\n",
      "               SportsManager       0.50      0.25      0.33        52\n",
      "                  SportsTeam       0.91      0.91      0.91       138\n",
      "            SportsTeamSeason       0.81      0.85      0.83       102\n",
      "                     Station       0.96      0.71      0.81        31\n",
      "                      Stream       0.95      0.88      0.91        48\n",
      "                  Tournament       0.86      0.87      0.86        99\n",
      "                       Tower       1.00      0.86      0.93        36\n",
      "                       Venue       1.00      0.13      0.24        15\n",
      "            VolleyballPlayer       0.00      0.00      0.00         5\n",
      "           WinterSportPlayer       0.92      1.00      0.96       162\n",
      "                    Wrestler       1.00      0.30      0.46        10\n",
      "                      Writer       0.00      0.00      0.00        29\n",
      "                 WrittenWork       1.00      0.50      0.67        40\n",
      "\n",
      "                    accuracy                           0.87      6080\n",
      "                   macro avg       0.82      0.70      0.73      6080\n",
      "                weighted avg       0.87      0.87      0.86      6080\n",
      "\n"
     ]
    },
    {
     "name": "stderr",
     "output_type": "stream",
     "text": [
      "E:\\conda\\lib\\site-packages\\sklearn\\metrics\\_classification.py:1221: UndefinedMetricWarning: Precision and F-score are ill-defined and being set to 0.0 in labels with no predicted samples. Use `zero_division` parameter to control this behavior.\n",
      "  _warn_prf(average, modifier, msg_start, len(result))\n"
     ]
    }
   ],
   "source": [
    "from sklearn import metrics\n",
    "predictions = bayes.predict(test_features_set_X)\n",
    "print(metrics.confusion_matrix(test_set_Y, predictions))\n",
    "print(metrics.classification_report(test_set_Y, predictions))\n"
   ],
   "metadata": {
    "collapsed": false,
    "pycharm": {
     "name": "#%%\n"
    }
   }
  },
  {
   "cell_type": "markdown",
   "source": [
    "Maxing Macro avg precision w celu zapewnienia dobrej jakosci dla mniej popularnych klas\n"
   ],
   "metadata": {
    "collapsed": false
   }
  }
 ],
 "metadata": {
  "kernelspec": {
   "display_name": "Python 3",
   "language": "python",
   "name": "python3"
  },
  "language_info": {
   "codemirror_mode": {
    "name": "ipython",
    "version": 2
   },
   "file_extension": ".py",
   "mimetype": "text/x-python",
   "name": "python",
   "nbconvert_exporter": "python",
   "pygments_lexer": "ipython2",
   "version": "2.7.6"
  }
 },
 "nbformat": 4,
 "nbformat_minor": 0
}
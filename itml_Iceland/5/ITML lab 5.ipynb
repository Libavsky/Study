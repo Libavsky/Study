{
 "cells": [
  {
   "cell_type": "markdown",
   "metadata": {},
   "source": [
    "## Importing libraries and dataset"
   ]
  },
  {
   "cell_type": "code",
   "execution_count": 1,
   "metadata": {
    "collapsed": true
   },
   "outputs": [],
   "source": [
    "from sklearn.model_selection import train_test_split\n",
    "from sklearn.datasets import load_breast_cancer\n",
    "import matplotlib.pyplot as plt\n",
    "import seaborn as sns\n",
    "import sklearn.pipeline\n",
    "import sklearn.neighbors as knn\n",
    "import sklearn.ensemble as ens\n",
    "import sklearn.naive_bayes as nba\n",
    "from sklearn import svm"
   ]
  },
  {
   "cell_type": "markdown",
   "metadata": {},
   "source": [
    "## Data\n",
    "We decided to use a dataset about breast cancer. It is binary classified data with 30 features. Further information about the dataset can be found here: https://goo.gl/U2Uwz2\n",
    "\n",
    "In code below the data is loaded and devided into training set and test set."
   ]
  },
  {
   "cell_type": "code",
   "execution_count": 2,
   "metadata": {
    "collapsed": true
   },
   "outputs": [],
   "source": [
    "data = load_breast_cancer()\n",
    "X_train, X_test, Y_train, Y_test = train_test_split(\n",
    "    data.data, data.target, test_size=0.2, random_state=111)"
   ]
  },
  {
   "cell_type": "markdown",
   "metadata": {},
   "source": [
    "## Test function\n",
    "Define a function for testing different classifiers. The function is called for all different classifiers to make comparison between classifiers simple. GridSearchCV is used to test different classifier parameters and choosing the one with the best results."
   ]
  },
  {
   "cell_type": "code",
   "execution_count": 3,
   "metadata": {
    "collapsed": true
   },
   "outputs": [],
   "source": [
    "def testfunction(name,steps,parameters):\n",
    "\n",
    "    pipeline = sklearn.pipeline.Pipeline(steps)\n",
    "    cv = sklearn.model_selection.GridSearchCV(pipeline,\n",
    "                                              param_grid=parameters)\n",
    "    cv.fit(X_train, Y_train)\n",
    "    y_predictions = cv.predict(X_test)\n",
    "    report = sklearn.metrics.classification_report(Y_test, y_predictions)\n",
    "\n",
    "    print(report)\n",
    "    print(\"Train score (\" + name + \"):\", cv.score(X_train, Y_train))\n",
    "    print(\"Test score (\" + name + \"):\", cv.score(X_test, Y_test))\n",
    "\n",
    "    plt.figure(figsize=(1,1))\n",
    "    plt.title(\"Confusion matrix\")\n",
    "    sns.heatmap(sklearn.metrics.confusion_matrix(Y_test, y_predictions), \n",
    "                annot=True, fmt=\"d\")\n",
    "    plt.show()\n",
    "\n",
    "    plt.figure(figsize=(6,1))\n",
    "    plt.title(\"Precision score\")\n",
    "    sns.barplot(sklearn.metrics.precision_score(Y_test, y_predictions, \n",
    "                                                average=None), \n",
    "                data.target_names)\n",
    "    plt.show()\n",
    "\n",
    "    plt.figure(figsize=(6,1))\n",
    "    plt.title(\"Recall score\")\n",
    "    sns.barplot(sklearn.metrics.recall_score(Y_test, y_predictions, \n",
    "                                             average=None), \n",
    "                data.target_names)\n",
    "    plt.show()"
   ]
  },
  {
   "cell_type": "markdown",
   "metadata": {},
   "source": [
    "# k-nearest neighbors\n",
    "The k-nearest-neighbours classifier tries to find k records in our train data that are most similar to a record we want to classify. With that approach the accuracy of our predictions is high, however, we found out that there exist beter classifiers for this dataset."
   ]
  },
  {
   "cell_type": "code",
   "execution_count": 4,
   "metadata": {},
   "outputs": [
    {
     "name": "stdout",
     "output_type": "stream",
     "text": [
      "             precision    recall  f1-score   support\n",
      "\n",
      "          0       0.95      0.89      0.92        44\n",
      "          1       0.93      0.97      0.95        70\n",
      "\n",
      "avg / total       0.94      0.94      0.94       114\n",
      "\n",
      "Train score (kNearestNeighbours): 0.940659340659\n",
      "Test score (kNearestNeighbours): 0.938596491228\n"
     ]
    },
    {
     "data": {
      "image/png": "[encoded data removed]",
      "text/plain": [
       "<matplotlib.figure.Figure at 0x209d4d6c5c0>"
      ]
     },
     "metadata": {},
     "output_type": "display_data"
    },
    {
     "data": {
      "image/png": "[encoded data removed]",
      "text/plain": [
       "<matplotlib.figure.Figure at 0x209d4dc9f98>"
      ]
     },
     "metadata": {},
     "output_type": "display_data"
    },
    {
     "data": {
      "image/png": "[encoded data removed]",
      "text/plain": [
       "<matplotlib.figure.Figure at 0x209d5157e48>"
      ]
     },
     "metadata": {},
     "output_type": "display_data"
    }
   ],
   "source": [
    "def kNeighbours():\n",
    "    classifier = knn.KNeighborsClassifier()\n",
    "\n",
    "    ktable = [1,3,5,6,7,8,9]\n",
    "    steps = [('classifier', classifier)]\n",
    "\n",
    "    parameters = dict(classifier__n_neighbors = ktable)\n",
    "\n",
    "    testfunction(\"kNearestNeighbours\",steps,parameters)\n",
    "\n",
    "kNeighbours();"
   ]
  },
  {
   "cell_type": "markdown",
   "metadata": {},
   "source": [
    "# SVM\n",
    "Linear Support Vector Machine seems to give slightly better results than non-linear (rbf and sigmoid) approaches. Accuracy achieved is equal to 95%"
   ]
  },
  {
   "cell_type": "code",
   "execution_count": 5,
   "metadata": {},
   "outputs": [
    {
     "name": "stdout",
     "output_type": "stream",
     "text": [
      "             precision    recall  f1-score   support\n",
      "\n",
      "          0       0.95      0.93      0.94        44\n",
      "          1       0.96      0.97      0.96        70\n",
      "\n",
      "avg / total       0.96      0.96      0.96       114\n",
      "\n",
      "Train score (SVM): 0.962637362637\n",
      "Test score (SVM): 0.956140350877\n"
     ]
    },
    {
     "data": {
      "image/png": "[encoded data removed]",
      "text/plain": [
       "<matplotlib.figure.Figure at 0x209d5217eb8>"
      ]
     },
     "metadata": {},
     "output_type": "display_data"
    },
    {
     "data": {
      "image/png": "[encoded data removed]",
      "text/plain": [
       "<matplotlib.figure.Figure at 0x209d51c7080>"
      ]
     },
     "metadata": {},
     "output_type": "display_data"
    },
    {
     "data": {
      "image/png": "[encoded data removed]",
      "text/plain": [
       "<matplotlib.figure.Figure at 0x209cfdecda0>"
      ]
     },
     "metadata": {},
     "output_type": "display_data"
    }
   ],
   "source": [
    "def SVM():\n",
    "    classifier = svm.SVC()\n",
    "\n",
    "    steps = [('classifier', classifier)]\n",
    "\n",
    "    parameters = dict(classifier__kernel=[\"sigmoid\", \"rbf\",\"linear\"],\n",
    "                      classifier__decision_function_shape=[\"ovo\", \"ovr\"],\n",
    "                      classifier__gamma=[0.001, 0.5, 0.2, 0.02, 0.002, \"auto\"],\n",
    "                      classifier__coef0=[0.001, 0.01, 0.1, 0.3, 0.0])\n",
    "\n",
    "    testfunction(\"SVM\",steps, parameters)\n",
    "   \n",
    "SVM();"
   ]
  },
  {
   "cell_type": "markdown",
   "metadata": {},
   "source": [
    "# Bagging\n",
    "Classifying using bagging (splitting the train set into more not necessarily disjoint sets and training multiple classifiers) seems to give the best results for selected dataset."
   ]
  },
  {
   "cell_type": "code",
   "execution_count": 6,
   "metadata": {},
   "outputs": [
    {
     "name": "stdout",
     "output_type": "stream",
     "text": [
      "             precision    recall  f1-score   support\n",
      "\n",
      "          0       0.98      0.95      0.97        44\n",
      "          1       0.97      0.99      0.98        70\n",
      "\n",
      "avg / total       0.97      0.97      0.97       114\n",
      "\n",
      "Train score (bagging): 1.0\n",
      "Test score (bagging): 0.973684210526\n"
     ]
    },
    {
     "data": {
      "image/png": "[encoded data removed]",
      "text/plain": [
       "<matplotlib.figure.Figure at 0x209d4e53748>"
      ]
     },
     "metadata": {},
     "output_type": "display_data"
    },
    {
     "data": {
      "image/png": "[encoded data removed]",
      "text/plain": [
       "<matplotlib.figure.Figure at 0x209d52dbb00>"
      ]
     },
     "metadata": {},
     "output_type": "display_data"
    },
    {
     "data": {
      "image/png": "[encoded data removed]",
      "text/plain": [
       "<matplotlib.figure.Figure at 0x209d539c828>"
      ]
     },
     "metadata": {},
     "output_type": "display_data"
    }
   ],
   "source": [
    "def bagging():\n",
    "    classifier = ens.BaggingClassifier();\n",
    "\n",
    "    ntable = [7,13,21]\n",
    "    max_samples = max_features = [0.10,0.25,0.35,0.60]\n",
    "    bootstrap_features = bootstrap = [True, False]\n",
    "    steps = [('classifier', classifier)]\n",
    "\n",
    "    parameters = dict(classifier__n_estimators = ntable,\n",
    "                      classifier__max_samples = max_samples,\n",
    "                      classifier__max_features = max_features,\n",
    "                      classifier__bootstrap_features = bootstrap_features,\n",
    "                      classifier__bootstrap = bootstrap)\n",
    "\n",
    "    testfunction(\"bagging\",steps,parameters)\n",
    "    \n",
    "bagging();"
   ]
  },
  {
   "cell_type": "markdown",
   "metadata": {
    "collapsed": true
   },
   "source": [
    "# Naive Bayes\n",
    "Scikit-learn provides different approaches of Naive Bayes. Below Multinomial Naive Bayes and Gaussian Naive Bayes are used.\n",
    "\n",
    "## Multinomial Naive Bayes\n",
    "Multinomial Naive Bayes was the one used also in homework 2. Alpha is the m in m-estimate that was introduced in the lecture slides. Using Multinomial Naive Bayes a test score of 89% can be achieved. That makes it the weakest classifier for this data."
   ]
  },
  {
   "cell_type": "code",
   "execution_count": 7,
   "metadata": {},
   "outputs": [
    {
     "name": "stdout",
     "output_type": "stream",
     "text": [
      "             precision    recall  f1-score   support\n",
      "\n",
      "          0       0.94      0.77      0.85        44\n",
      "          1       0.87      0.97      0.92        70\n",
      "\n",
      "avg / total       0.90      0.89      0.89       114\n",
      "\n",
      "Train score (NaiveBayes): 0.896703296703\n",
      "Test score (NaiveBayes): 0.894736842105\n"
     ]
    },
    {
     "data": {
      "image/png": "[encoded data removed]",
      "text/plain": [
       "<matplotlib.figure.Figure at 0x209d50ebf28>"
      ]
     },
     "metadata": {},
     "output_type": "display_data"
    },
    {
     "data": {
      "image/png": "[encoded data removed]",
      "text/plain": [
       "<matplotlib.figure.Figure at 0x209d5437860>"
      ]
     },
     "metadata": {},
     "output_type": "display_data"
    },
    {
     "data": {
      "image/png": "[encoded data removed]",
      "text/plain": [
       "<matplotlib.figure.Figure at 0x209d57b6668>"
      ]
     },
     "metadata": {},
     "output_type": "display_data"
    }
   ],
   "source": [
    "def multiNomialNB():\n",
    "    classifier = nba.MultinomialNB()\n",
    "    \n",
    "    alphas = [0.0, 0.4, 0.8, 1.0, 1.4, 2.0, 2.8, 4.0, 5.0]\n",
    "    \n",
    "    steps = [('classifier', classifier)]\n",
    "    parameters = dict(classifier__alpha = alphas)\n",
    "\n",
    "    testfunction(\"NaiveBayes\",steps,parameters)\n",
    "\n",
    "\n",
    "multiNomialNB();"
   ]
  },
  {
   "cell_type": "markdown",
   "metadata": {},
   "source": [
    "## Gaussian Naive Bayes\n",
    "Another Naive Bayes approach is called Gaussian NB which uses normal distribution. There aren't any parameters whose values should be varied. Gaussian NB achieves a score of 94% which is quite the same as for k-nearest neighbors classifier."
   ]
  },
  {
   "cell_type": "code",
   "execution_count": 8,
   "metadata": {},
   "outputs": [
    {
     "name": "stdout",
     "output_type": "stream",
     "text": [
      "             precision    recall  f1-score   support\n",
      "\n",
      "          0       0.91      0.95      0.93        44\n",
      "          1       0.97      0.94      0.96        70\n",
      "\n",
      "avg / total       0.95      0.95      0.95       114\n",
      "\n",
      "Train score (NaiveBayes): 0.936263736264\n",
      "Test score (NaiveBayes): 0.947368421053\n"
     ]
    },
    {
     "data": {
      "image/png": "[encoded data removed]",
      "text/plain": [
       "<matplotlib.figure.Figure at 0x209d57976a0>"
      ]
     },
     "metadata": {},
     "output_type": "display_data"
    },
    {
     "data": {
      "image/png": "[encoded data removed]",
      "text/plain": [
       "<matplotlib.figure.Figure at 0x209d56990b8>"
      ]
     },
     "metadata": {},
     "output_type": "display_data"
    },
    {
     "data": {
      "image/png": "[encoded data removed]",
      "text/plain": [
       "<matplotlib.figure.Figure at 0x209d4efe828>"
      ]
     },
     "metadata": {},
     "output_type": "display_data"
    }
   ],
   "source": [
    "def gaussianNB():\n",
    "    classifier = nba.GaussianNB()\n",
    "    \n",
    "    steps = [('classifier', classifier)]\n",
    "    parameters = dict()\n",
    "\n",
    "    testfunction(\"NaiveBayes\",steps,parameters)\n",
    "\n",
    "\n",
    "gaussianNB();"
   ]
  }
 ],
 "metadata": {
  "kernelspec": {
   "display_name": "Python 3",
   "language": "python",
   "name": "python3"
  },
  "language_info": {
   "codemirror_mode": {
    "name": "ipython",
    "version": 3
   },
   "file_extension": ".py",
   "mimetype": "text/x-python",
   "name": "python",
   "nbconvert_exporter": "python",
   "pygments_lexer": "ipython3",
   "version": "3.6.1"
  }
 },
 "nbformat": 4,
 "nbformat_minor": 2
}

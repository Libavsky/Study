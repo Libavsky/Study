{
 "cells": [
  {
   "cell_type": "markdown",
   "metadata": {},
   "source": [
    "## Importing libraries and datasets"
   ]
  },
  {
   "cell_type": "code",
   "execution_count": 1,
   "metadata": {
    "collapsed": true
   },
   "outputs": [],
   "source": [
    "import seaborn as sns\n",
    "import matplotlib.pyplot as plt\n",
    "from sklearn.datasets import fetch_20newsgroups\n",
    "from sklearn.model_selection import train_test_split, KFold\n",
    "from sklearn.feature_selection import SelectKBest, chi2\n",
    "from sklearn.feature_extraction.text import CountVectorizer\n",
    "from sklearn import tree"
   ]
  },
  {
   "cell_type": "markdown",
   "metadata": {},
   "source": [
    "# Task 1"
   ]
  },
  {
   "cell_type": "markdown",
   "metadata": {},
   "source": [
    "## a) Number of instances\n",
    "There are 18846 instances in the dataset."
   ]
  },
  {
   "cell_type": "code",
   "execution_count": 2,
   "metadata": {},
   "outputs": [
    {
     "name": "stdout",
     "output_type": "stream",
     "text": [
      "18846\n"
     ]
    }
   ],
   "source": [
    "newsgroups = fetch_20newsgroups(subset='all')\n",
    "print(len(newsgroups.data))"
   ]
  },
  {
   "cell_type": "markdown",
   "metadata": {},
   "source": [
    "## b) Classes\n",
    "The dataset define 20 classes, the list is shown below."
   ]
  },
  {
   "cell_type": "code",
   "execution_count": 3,
   "metadata": {},
   "outputs": [
    {
     "name": "stdout",
     "output_type": "stream",
     "text": [
      "Classes:\n",
      "\talt.atheism\n",
      "\tcomp.graphics\n",
      "\tcomp.os.ms-windows.misc\n",
      "\tcomp.sys.ibm.pc.hardware\n",
      "\tcomp.sys.mac.hardware\n",
      "\tcomp.windows.x\n",
      "\tmisc.forsale\n",
      "\trec.autos\n",
      "\trec.motorcycles\n",
      "\trec.sport.baseball\n",
      "\trec.sport.hockey\n",
      "\tsci.crypt\n",
      "\tsci.electronics\n",
      "\tsci.med\n",
      "\tsci.space\n",
      "\tsoc.religion.christian\n",
      "\ttalk.politics.guns\n",
      "\ttalk.politics.mideast\n",
      "\ttalk.politics.misc\n",
      "\ttalk.religion.misc\n",
      "Number of classes:  20\n"
     ]
    }
   ],
   "source": [
    "tn = newsgroups.target_names\n",
    "print(\"Classes:\\n\\t\" + \"\\n\\t\".join(tn))\n",
    "print(\"Number of classes: \", len(tn))"
   ]
  },
  {
   "cell_type": "markdown",
   "metadata": {},
   "source": [
    "## c) Class distribution"
   ]
  },
  {
   "cell_type": "code",
   "execution_count": 4,
   "metadata": {},
   "outputs": [
    {
     "data": {
      "image/png": "[encoded data removed]",
      "text/plain": [
       "<matplotlib.figure.Figure at 0x7f8fc08c2a58>"
      ]
     },
     "metadata": {},
     "output_type": "display_data"
    }
   ],
   "source": [
    "sns.countplot(newsgroups.target)\n",
    "plt.show()"
   ]
  },
  {
   "cell_type": "markdown",
   "metadata": {},
   "source": [
    "## d) Preventing overfitting\n",
    "The texts begin with headers, which include email addresses and organisations, which can assist us a lot while searching for similarities between texts. But we want our machine lerning algorithm to decide on the topic only by looking at the contents of the texts since our test data might not include this additional information or it might be different from what we expected (for example, if people from the same organisation are having a discussion about cryptography but then somebody from them starts to talk about a hockey match, this should not be classified as the same class although this person belongs to the same organisation). Therefore we should remove this information."
   ]
  },
  {
   "cell_type": "code",
   "execution_count": 5,
   "metadata": {
    "collapsed": true
   },
   "outputs": [],
   "source": [
    "newsgroups = fetch_20newsgroups(subset='all',\n",
    "                                remove=('quotes','footers','headers'))"
   ]
  },
  {
   "cell_type": "markdown",
   "metadata": {},
   "source": [
    "# Task 2\n",
    "## a) Spitting the data"
   ]
  },
  {
   "cell_type": "code",
   "execution_count": 6,
   "metadata": {},
   "outputs": [
    {
     "name": "stdout",
     "output_type": "stream",
     "text": [
      "Train set size: 15076\n",
      "Test set size: 3770\n"
     ]
    }
   ],
   "source": [
    "X_train, X_test, Y_train, Y_test = train_test_split(\n",
    "    newsgroups.data,\n",
    "    newsgroups.target,\n",
    "    test_size=0.2,\n",
    "    random_state=42)\n",
    "print(\"Train set size:\", len(X_train))\n",
    "print(\"Test set size:\", len(X_test))"
   ]
  },
  {
   "cell_type": "markdown",
   "metadata": {
    "collapsed": true
   },
   "source": [
    "## b) Class distribution in the test set"
   ]
  },
  {
   "cell_type": "code",
   "execution_count": 7,
   "metadata": {},
   "outputs": [
    {
     "data": {
      "image/png": "[encoded data removed]",
      "text/plain": [
       "<matplotlib.figure.Figure at 0x7f8f8a56bb38>"
      ]
     },
     "metadata": {},
     "output_type": "display_data"
    }
   ],
   "source": [
    "sns.countplot(Y_test)\n",
    "plt.show()"
   ]
  },
  {
   "cell_type": "markdown",
   "metadata": {},
   "source": [
    "The distribution of the test set doesn't differ too much from the distribution of the whole set."
   ]
  },
  {
   "cell_type": "markdown",
   "metadata": {},
   "source": [
    "# Task 3"
   ]
  },
  {
   "cell_type": "markdown",
   "metadata": {},
   "source": [
    "## a) Number of attributes\n",
    "We get 111584 attributes, which is way too much. The majority of the words appear only in a few (one, two, three) texts so they cannot help us to find similarities between texts. Furthermore, learning a decision tree on all these features would lead to a model that heavily overfits our training data.\n",
    "Besides that, we should exclude words that appear many times, e. g. \"and\", \"in\", \"or\" and \"the\" since they probably tell nothing about the topic."
   ]
  },
  {
   "cell_type": "code",
   "execution_count": 8,
   "metadata": {},
   "outputs": [
    {
     "name": "stdout",
     "output_type": "stream",
     "text": [
      "(#records, #features):  (15076, 111584)\n"
     ]
    }
   ],
   "source": [
    "vectorizer = CountVectorizer()\n",
    "X_features_train = vectorizer.fit_transform(X_train)\n",
    "print(\"(#records, #features): \", X_features_train.shape)"
   ]
  },
  {
   "cell_type": "markdown",
   "metadata": {},
   "source": [
    "## b) Excluding words\n",
    "If we exclude words that appear in less than three or more than half the texts, we get 30452 features."
   ]
  },
  {
   "cell_type": "code",
   "execution_count": 9,
   "metadata": {},
   "outputs": [
    {
     "name": "stdout",
     "output_type": "stream",
     "text": [
      "(#records, #features):  (15076, 30452)\n"
     ]
    }
   ],
   "source": [
    "vectorizer = CountVectorizer(max_df=0.5,min_df=3)\n",
    "X_features_train = vectorizer.fit_transform(X_train)\n",
    "print(\"(#records, #features): \", X_features_train.shape)"
   ]
  },
  {
   "cell_type": "markdown",
   "metadata": {},
   "source": [
    "# Task 4"
   ]
  },
  {
   "cell_type": "markdown",
   "metadata": {},
   "source": [
    "## a) DecisionTreeClassifier\n",
    "Here we create a decision tree provided by scikit-learn."
   ]
  },
  {
   "cell_type": "code",
   "execution_count": null,
   "metadata": {
    "collapsed": true,
    "scrolled": true
   },
   "outputs": [],
   "source": [
    "dt = tree.DecisionTreeClassifier()\n",
    "dt.fit(X_features_train, Y_train)"
   ]
  },
  {
   "cell_type": "markdown",
   "metadata": {},
   "source": [
    "## b) Number of nodes\n",
    "Using the attribute node_count we get the number of nodes."
   ]
  },
  {
   "cell_type": "code",
   "execution_count": 11,
   "metadata": {},
   "outputs": [
    {
     "name": "stdout",
     "output_type": "stream",
     "text": [
      "9449\n"
     ]
    }
   ],
   "source": [
    "print(dt.tree_.node_count)"
   ]
  },
  {
   "cell_type": "markdown",
   "metadata": {},
   "source": [
    "## c) Accuracy (train set)\n",
    "Decision tree's score() method returns the mean accuracy on the given test data and labels. The score with the training set is 97% which is good."
   ]
  },
  {
   "cell_type": "code",
   "execution_count": 12,
   "metadata": {},
   "outputs": [
    {
     "name": "stdout",
     "output_type": "stream",
     "text": [
      "0.973932077474\n"
     ]
    }
   ],
   "source": [
    "print(dt.score(X_features_train, Y_train))"
   ]
  },
  {
   "cell_type": "markdown",
   "metadata": {},
   "source": [
    "## d) Accuracy (test set)\n",
    "With the test set we get only accuracy of 45%."
   ]
  },
  {
   "cell_type": "code",
   "execution_count": 13,
   "metadata": {},
   "outputs": [
    {
     "name": "stdout",
     "output_type": "stream",
     "text": [
      "0.454641909814\n"
     ]
    }
   ],
   "source": [
    "X_features_test=vectorizer.transform(X_test)\n",
    "print(dt.score(X_features_test, Y_test))"
   ]
  },
  {
   "cell_type": "markdown",
   "metadata": {},
   "source": [
    "## e) Conclusion\n",
    "Having a huge gap between the scores of the training set and the test set means that the model is overfitting to our train data. That means that the model doesn't generalize well and works only to recognize records in the training set."
   ]
  },
  {
   "cell_type": "markdown",
   "metadata": {},
   "source": [
    "However, the model is not so bad. If the classes were choosen randomly we would get a score of 5%. Having a test score of 45% is much better than that but still it isn't good."
   ]
  },
  {
   "cell_type": "markdown",
   "metadata": {},
   "source": [
    "# Task 5"
   ]
  },
  {
   "cell_type": "markdown",
   "metadata": {},
   "source": [
    "## a) Adding feature selection"
   ]
  },
  {
   "cell_type": "markdown",
   "metadata": {},
   "source": [
    "Using feature_selector.fit_transform to get only 10 most meaningful attribute (words that correlate with the class label) makes our decision tree much more simple. In part 4 our decision tree had around 9500 nodes and now it has only 213."
   ]
  },
  {
   "cell_type": "markdown",
   "metadata": {},
   "source": [
    "Also there is a dramatic change in the score for both training set and test set. Now both scores 12 % and 10 % are quite equal which is a good thing but on\n",
    "the other hand they are both really bad. This indicates that the new model is underfitting. The result is was expected because the model is now using only 10 features and still trying to recognize 20 different newsgroups."
   ]
  },
  {
   "cell_type": "code",
   "execution_count": 14,
   "metadata": {},
   "outputs": [
    {
     "name": "stdout",
     "output_type": "stream",
     "text": [
      "Number of nodes: 213\n",
      "Train set: 0.115415229504\n",
      "Test set: 0.101326259947\n"
     ]
    }
   ],
   "source": [
    "feature_selector = SelectKBest(chi2, k=10)\n",
    "X_train_selected = feature_selector.fit_transform(X_features_train, Y_train)\n",
    "X_test_selected = feature_selector.transform(X_features_test)\n",
    "\n",
    "dt.fit(X_train_selected, Y_train)\n",
    "print(\"Number of nodes:\", dt.tree_.node_count)\n",
    "\n",
    "print(\"Train set:\", dt.score(X_train_selected, Y_train))\n",
    "print(\"Test set:\", dt.score(X_test_selected, Y_test))"
   ]
  },
  {
   "cell_type": "markdown",
   "metadata": {},
   "source": [
    "## b) How not to find value for k\n",
    "It is not a good idea to use test set for training because then the model is trained to work well on the test set. The point of the test set is to NOT use that part of the data for training, so it really should not be used."
   ]
  },
  {
   "cell_type": "markdown",
   "metadata": {},
   "source": [
    "Testing different k values is a good idea for finding an optimal amount of features used but we should not decide which one is the best according to the results on test data."
   ]
  },
  {
   "cell_type": "markdown",
   "metadata": {},
   "source": [
    "## c) Testing the method on training set\n",
    "Using only the training set can easily lead to overfitting the training data. If we test the trees on the same data that the trees were trained on, we will probably get a very high accuracy."
   ]
  }
 ],
 "metadata": {
  "kernelspec": {
   "display_name": "Python 3",
   "language": "python",
   "name": "python3"
  },
  "language_info": {
   "codemirror_mode": {
    "name": "ipython",
    "version": 3
   },
   "file_extension": ".py",
   "mimetype": "text/x-python",
   "name": "python",
   "nbconvert_exporter": "python",
   "pygments_lexer": "ipython3",
   "version": "3.6.1"
  }
 },
 "nbformat": 4,
 "nbformat_minor": 2
}
